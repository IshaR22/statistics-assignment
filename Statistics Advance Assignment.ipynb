{
 "cells": [
  {
   "cell_type": "code",
   "execution_count": null,
   "id": "7ae76310-0102-431b-ade9-c9b22e745f4b",
   "metadata": {},
   "outputs": [],
   "source": [
    "Q1: What are the Probability Mass Function (PMF) and Probability Density Function (PDF)? Explain with\n",
    "an example."
   ]
  },
  {
   "cell_type": "code",
   "execution_count": null,
   "id": "e95adcd1-2cdb-4edc-9cbb-0d9e069f526f",
   "metadata": {},
   "outputs": [],
   "source": [
    "A function that defines the relationship between a random variable and its probability, such that we can find\n",
    "the probability of the variable using the function, is called a Probability Density Function (PDF) .\n",
    "it is used for distribution of the contineous data.\n",
    "example:\n",
    "    height of student in an class \n",
    "\n",
    "The PMF is used for discrete random variables, which take on a countable number of distinct values. The PMF gives \n",
    "the probability that a discrete random variable is exactly equal to some value.\n",
    "example:\n",
    "    Consider a fair die. \n",
    "X be the random variable representing the outcome of a roll. The possible values of \n",
    "X are {1,2,3,4,5,6}. \n",
    "The PMF is:\n",
    "𝑃(𝑋=𝑥)=16\n",
    " for x ∈{1,2,3,4,5,6}\n",
    "\n",
    "This means the probability of rolling any specific number (like 3) is 1/6\n",
    "\n",
    "\n"
   ]
  },
  {
   "cell_type": "code",
   "execution_count": null,
   "id": "8cae177b-09fb-464c-8ccc-0b7867cc1875",
   "metadata": {},
   "outputs": [],
   "source": [
    "Q2: What is Cumulative Density Function (CDF)? Explain with an example. Why CDF is used?"
   ]
  },
  {
   "cell_type": "code",
   "execution_count": null,
   "id": "ec2832b6-83a4-404d-a54f-ee579d4857a8",
   "metadata": {},
   "outputs": [],
   "source": [
    "The Cumulative Density Function (CDF) is a function that describes the probability that a random variable \n",
    "X will take a value less than or equal to x\n",
    "CDF is used because\n",
    "The CDF provides a way to calculate the probability that a random variable falls within a certain range.\n",
    "\n",
    "Distribution Description: The CDF fully describes the distribution of a random variable, making it possible to derive\n",
    "other statistical measures such as the mean, variance, and quantiles.\n",
    "\n",
    "Comparing Distributions: CDFs allow for an easy comparison of different probability distributions.\n",
    "\n",
    "Statistical Inference: The CDF is used in statistical inference, including hypothesis testing and confidence interval estimation.\n",
    "\n",
    "Consider a fair die. \n",
    "X be the random variable representing the outcome of a roll. The possible values of \n",
    "X are {1,2,3,4,5,6}. \n",
    "The CDF is:\n",
    "𝑃(𝑋=2)=p(X=1)+P(X=2)=2/6=1/3"
   ]
  },
  {
   "cell_type": "code",
   "execution_count": null,
   "id": "d55f7ff6-3e8d-47f5-9488-fecac154c7a8",
   "metadata": {},
   "outputs": [],
   "source": [
    "Q3: What are some examples of situations where the normal distribution might be used as a model?\n",
    "Explain how the parameters of the normal distribution relate to the shape of the distribution."
   ]
  },
  {
   "cell_type": "code",
   "execution_count": null,
   "id": "81382d97-6817-4be6-9cf0-cf77649de1ac",
   "metadata": {},
   "outputs": [],
   "source": [
    "Height and Weight: The distribution of human height and weight is often modeled using a normal distribution, \n",
    "as these variables tend to follow a bell-shaped curve.\n",
    "IQ tests: assume a normal distribution of scores.\n",
    "\n",
    "the Parameters of the Normal Distribution relate to the Shape of the Distribution:\n",
    "\n",
    "Mean (μ): The mean is the central value of the distribution, and it represents the average value of the variable being\n",
    "modeled. The mean is used as a measure of central tendency.\n",
    "Standard Deviation: The std measures the spread or dispersion of the data from the mean. A small standard deviation\n",
    "indicates that the data points are concentrated around the mean, \n",
    "while a large standard deviation indicates that the data points are more spread out.\n",
    "Symmetry: The normal distribution is symmetric around the mean.\n",
    "Bell-Shaped Curve: The normal distribution is characterized by a bell-shaped curve, with the majority of the \n",
    "data points clustering around the mean and tapering off as they move further away from the mean.\n"
   ]
  },
  {
   "cell_type": "code",
   "execution_count": null,
   "id": "de42cb08-f87f-42ca-8530-605b80c7df04",
   "metadata": {},
   "outputs": [],
   "source": [
    "Q4: Explain the importance of Normal Distribution. Give a few real-life examples of Normal\n",
    "Distribution."
   ]
  },
  {
   "cell_type": "code",
   "execution_count": null,
   "id": "116a0f86-fc8e-4e69-b861-0479a9e55e87",
   "metadata": {},
   "outputs": [],
   "source": [
    "Its importance lies in accurately representing real-world data and enabling predictive analysis due to its\n",
    "predictable nature and mathematical properties. The normal distribution is widely used in various fields, including:\n",
    "\n",
    "Statistics: Normal Distribution is used to model and analyze data, making it a crucial tool for statistical inference \n",
    "and hypothesis testing.\n",
    "Research: Normal Distribution helps researchers understand and describe the distribution of variables in their study, \n",
    "enabling them to draw meaningful conclusions.\n",
    "Real-Life Examples of Normal Distribution\n",
    "\n",
    "Height and Weight: The distribution of human height and weight follows a normal distribution, with most people falling within a certain range.\n",
    "Birth Weight: The weight of newborn babies is normally distributed, with most babies having a weight between \n",
    "2.5 to 3.5 kg.\n",
    "Test Scores: Many standardized tests, such as the SAT or IQ tests, follow a normal distribution, with most scores \n",
    "clustering around the mean."
   ]
  },
  {
   "cell_type": "code",
   "execution_count": null,
   "id": "5542ae35-429b-495e-b707-67bcdac70e12",
   "metadata": {},
   "outputs": [],
   "source": [
    "Q5: What is Bernaulli Distribution? Give an Example. What is the difference between Bernoulli\n",
    "Distribution and Binomial Distribution?"
   ]
  },
  {
   "cell_type": "code",
   "execution_count": null,
   "id": "e1d84402-dfe0-428e-a8c9-3efc3c35a159",
   "metadata": {},
   "outputs": [],
   "source": [
    "The Bernoulli distribution is a probability distribution that models the outcome of a single trial or \n",
    "experiment that can have only two possible outcomes: success or failure, 0 or 1, yes or no, etc. It is a special\n",
    "case of the binomial distribution where the number of trials (n) is equal to 1.\n",
    "\n",
    "Example:\n",
    "\n",
    "Suppose we flip a coin once.the probability of getting heads is 0.5 (or 50%).the random variable X follows a \n",
    "Bernoulli distribution. X can only take on two possible values: 0 (tails) or 1 (heads).\n",
    "\n",
    " difference between Bernoulli Distribution and Binomial Distribution\n",
    "\n",
    "The main difference between Bernoulli and Binomial distributions is the number of trials or experiments.\n",
    "\n",
    "Bernoulli Distribution: A single trial or experiment with two possible outcomes (0 or 1, success or failure, etc.).\n",
    "Binomial Distribution: The sum of multiple independent and identically distributed Bernoulli trials.\n",
    "it is the distribution of the number of successes in a fixed number of independent trials, where each trial has a \n",
    "constant probability of success.\n"
   ]
  },
  {
   "cell_type": "code",
   "execution_count": null,
   "id": "f1aa34b0-b410-4d99-a7e7-a0a6887fdcfc",
   "metadata": {},
   "outputs": [],
   "source": [
    "Q6. Consider a dataset with a mean of 50 and a standard deviation of 10. If we assume that the dataset\n",
    "is normally distributed, what is the probability that a randomly selected observation will be greater\n",
    "than 60? Use the appropriate formula and show your calculations."
   ]
  },
  {
   "cell_type": "code",
   "execution_count": null,
   "id": "97c26c74-959c-4169-808e-79143147034d",
   "metadata": {},
   "outputs": [],
   "source": [
    "mean=40\n",
    "std=10\n",
    "normally distributed using z table\n",
    "p(>60)=60-40/10\n",
    "=2\n",
    "=0.9772"
   ]
  },
  {
   "cell_type": "code",
   "execution_count": null,
   "id": "75adbf31-6430-4335-829f-af24e05b541d",
   "metadata": {},
   "outputs": [],
   "source": [
    "Q7: Explain uniform Distribution with an example."
   ]
  },
  {
   "cell_type": "code",
   "execution_count": null,
   "id": "70d0f94f-9365-4181-b45d-d16e8d5e3998",
   "metadata": {},
   "outputs": [],
   "source": [
    "uniform distribution refers to a type of probability distribution in which all outcomes are equally likely.\n",
    "Probability distributions can help you decide the probability of a future event.\n",
    "There are two types of uniform distributions: discrete and continuous.\n",
    "\n",
    "The possible results of rolling a die provide an example of a discrete uniform distribution. \n",
    "It is possible to roll a 1, 2, 3, 4, 5, or 6, but it is not possible to roll a 2.3, 4.7, or 5.5.\n",
    "Therefore, the roll of a die generates a discrete distribution with the probability of 1/6 for each outcome. \n",
    "There are only 6 possible values to return and nothing in between. The possibilities are finite.\n",
    "\n",
    "Continuous Uniform Distributions\n",
    "continuous uniform distributions have infinite distribution possibilities. An idealized random number generator \n",
    "would be considered a continuous uniform distribution. With this type of distribution, every point in the continuous \n",
    "range between 0.0 and 1.0 has an equal opportunity of appearing, yet there is an infinite number of points between\n",
    "0.0 and 1.0."
   ]
  },
  {
   "cell_type": "code",
   "execution_count": null,
   "id": "626d737f-354a-42a7-b1b0-8ea02cbeab07",
   "metadata": {},
   "outputs": [],
   "source": [
    "Q8: What is the z score? State the importance of the z score."
   ]
  },
  {
   "cell_type": "code",
   "execution_count": null,
   "id": "7ee95f2c-c050-4050-bf51-8be657dfc76b",
   "metadata": {},
   "outputs": [],
   "source": [
    "The z-score is a measure that indicates how many std an entity is from the mean. It is calculated by subtracting \n",
    "the mean from the value and then dividing by the std. The z-score is a way to normalize data and compare it to a\n",
    "standard normal distribution.\n",
    "\n",
    "Importance of the Z-Score\n",
    "\n",
    "The z-score is important because it tells us where our data lies in the data distribution. It helps us understand \n",
    "how unusual or typical a value is compared to the rest of the data. A z-score of 1.5, for example, means that the \n",
    "value is 1.5 standard deviations away from the mean, which can be considered too far from average for some purposes.\n",
    "\n",
    "The z-score is also important because it allows us to estimate the probability of a data point falling within a \n",
    "specific range or being above or below a certain value. \n",
    "68% of the data falls within one standard deviation of the mean\n",
    "95% of the data falls within two standard deviations of the mean\n",
    "99.7% of the data falls within three standard deviations of the mean\n",
    "This rule can be used to determine the probability of a data point falling within a specific range or \n",
    "being above or below a certain value. The z-score is particularly important because it tells us not only \n",
    "something about the value itself, but also where the value lies in the distribution.\n",
    "\n"
   ]
  },
  {
   "cell_type": "code",
   "execution_count": null,
   "id": "5576a6d2-98cd-4edf-9653-17fd181e5fff",
   "metadata": {},
   "outputs": [],
   "source": [
    "Q9: What is Central Limit Theorem? State the significance of the Central Limit Theorem."
   ]
  },
  {
   "cell_type": "code",
   "execution_count": null,
   "id": "190bcbb8-280a-45d1-a8c3-3841a9690894",
   "metadata": {},
   "outputs": [],
   "source": [
    "\n",
    "The Central Limit Theorem (CLT) is a fundamental concept in probability theory that states that, \n",
    "given certain conditions, the distribution of the mean of a large sample of independent and identically distributed \n",
    "random variables will be approximately normal, even if the underlying distribution is not normal. In other words,\n",
    "the CLT says that the sample mean will be normally distributed, regardless of the shape of the population distribution,\n",
    "as long as the sample size is sufficiently large."
   ]
  },
  {
   "cell_type": "code",
   "execution_count": null,
   "id": "5cde3b61-be56-4066-b917-58c391941aa5",
   "metadata": {},
   "outputs": [],
   "source": [
    "Q10: State the assumptions of the Central Limit Theorem."
   ]
  },
  {
   "cell_type": "code",
   "execution_count": null,
   "id": "6d1030d7-9826-473f-bd56-a9efe6ff1fde",
   "metadata": {},
   "outputs": [],
   "source": [
    "it says that the smapling distribution of the mean will always be normally distributed,as long as the sample \n",
    "size is large enough.  regardless of population the population can be normal,poisson ,  binomial , etc.\n",
    "\n",
    "The Central Limit Theorem (CLT) assumes the following:\n",
    "\n",
    "Independence: The observations in the sample are independent of each other.\n",
    "Identical distribution: The observations in the sample are identically distributed, meaning they come from the same \n",
    "population.\n",
    "Finite variance: The population has a finite variance, population standard deviation is not infinite.\n",
    "Large sample size: The sample size is sufficiently large, typically greater than 30.\n",
    "Random sampling: The sample is randomly selected from the population, meaning that every observation in the population \n",
    "has an equal chance of being selected.\n",
    "No outliers: There are no outliers in the data, meaning that the data is relatively free from extreme values that can\n",
    "affect the distribution of the sample mean.\n"
   ]
  }
 ],
 "metadata": {
  "kernelspec": {
   "display_name": "Python 3 (ipykernel)",
   "language": "python",
   "name": "python3"
  },
  "language_info": {
   "codemirror_mode": {
    "name": "ipython",
    "version": 3
   },
   "file_extension": ".py",
   "mimetype": "text/x-python",
   "name": "python",
   "nbconvert_exporter": "python",
   "pygments_lexer": "ipython3",
   "version": "3.10.8"
  }
 },
 "nbformat": 4,
 "nbformat_minor": 5
}
